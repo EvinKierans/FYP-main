{
 "cells": [
  {
   "cell_type": "code",
   "execution_count": 1,
   "metadata": {},
   "outputs": [],
   "source": [
    "import pandas as pd\n",
    "\n",
    "import numpy as np\n",
    "from scipy.stats import pearsonr\n",
    "from scipy.stats import spearmanr\n",
    "import matplotlib\n",
    "#import matplotlib_inline"
   ]
  },
  {
   "cell_type": "code",
   "execution_count": null,
   "metadata": {},
   "outputs": [],
   "source": [
    "# All_Data = pd.read_csv('./results/RESULTS.csv')\n",
    "\n",
    "\n",
    "\n",
    "# # Plot WARP-Q scores per condition as a function of codec type\n",
    "# dataX = All_Data.groupby('Codec').agg({'WARP-Q': 'mean','MOS':'mean'})\n",
    "# dataX = dataX.reset_index()\n",
    "\n",
    "# # Compute Pearson correlation coefficient\n",
    "# pearson_coef, p_value = pearsonr(dataX['WARP-Q'], dataX.MOS)\n"
   ]
  },
  {
   "cell_type": "code",
   "execution_count": 31,
   "metadata": {},
   "outputs": [],
   "source": [
    "All_Data = pd.read_csv('mos_score_concatted.csv')"
   ]
  },
  {
   "cell_type": "code",
   "execution_count": 32,
   "metadata": {},
   "outputs": [
    {
     "name": "stdout",
     "output_type": "stream",
     "text": [
      "-0.7293069065696003\n"
     ]
    }
   ],
   "source": [
    "\n",
    "\n",
    "# Compute Pearson correlation coefficient\n",
    "pearson_coef, p_value = pearsonr(All_Data[\"mean\"], All_Data[\"MOS\"])\n",
    "\n",
    "# sns.lmplot(x=\"MOS\", y='WARP-Q', fit_reg=False, hue='Codec',\n",
    "#            data=dataX).fig.suptitle('Per-condition Pearsonr = '+str(round(pearson_coef,2)))\n",
    "\n",
    "print(pearson_coef)"
   ]
  },
  {
   "cell_type": "code",
   "execution_count": 20,
   "metadata": {},
   "outputs": [],
   "source": [
    "import matplotlib.pyplot as plt"
   ]
  },
  {
   "cell_type": "code",
   "execution_count": 29,
   "metadata": {},
   "outputs": [
    {
     "name": "stdout",
     "output_type": "stream",
     "text": [
      "Pearson:  0.6899768183550063\n",
      "Spearman:  0.5000000000000001\n"
     ]
    },
    {
     "data": {
      "image/png": "[encoded data removed]",
      "text/plain": [
       "<Figure size 432x288 with 1 Axes>"
      ]
     },
     "metadata": {
      "needs_background": "light"
     },
     "output_type": "display_data"
    }
   ],
   "source": [
    "import pandas as pd\n",
    "import numpy as np\n",
    "from scipy.stats import pearsonr\n",
    "from scipy.stats import spearmanr\n",
    "import matplotlib.pyplot as plt\n",
    "\n",
    "df = pd.read_csv('mos_score_concatted_andrew.csv')\n",
    "\n",
    "fig = plt.figure()\n",
    "ax = fig.add_subplot(111)\n",
    "plt.scatter(df.MOS,df.prediction)\n",
    "plt.grid(True)\n",
    "plt.xticks(range(1,6))\n",
    "plt.yticks(range(1,6))\n",
    "plt.xlabel('Subjective MOS')\n",
    "plt.ylabel('WARPQ DLN Predicted MOS')\n",
    "plt.title('Dataset: Genspeech')\n",
    "plt.gca().set_aspect('equal')\n",
    "\n",
    "pearson_coef, p_value = pearsonr(df.MOS,df.prediction)\n",
    "spearman_coef, p_value = spearmanr(df.MOS,df.prediction)\n",
    "\n",
    "print(\"Pearson: \",pearson_coef)\n",
    "print(\"Spearman: \",spearman_coef)"
   ]
  }
 ],
 "metadata": {
  "interpreter": {
   "hash": "aee8b7b246df8f9039afb4144a1f6fd8d2ca17a180786b69acc140d282b71a49"
  },
  "kernelspec": {
   "display_name": "Python 3.9.5 64-bit",
   "language": "python",
   "name": "python3"
  },
  "language_info": {
   "codemirror_mode": {
    "name": "ipython",
    "version": 3
   },
   "file_extension": ".py",
   "mimetype": "text/x-python",
   "name": "python",
   "nbconvert_exporter": "python",
   "pygments_lexer": "ipython3",
   "version": "3.9.12"
  },
  "orig_nbformat": 4
 },
 "nbformat": 4,
 "nbformat_minor": 2
}
